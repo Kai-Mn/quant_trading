{
 "cells": [
  {
   "cell_type": "markdown",
   "metadata": {},
   "source": [
    "# TOC:\n",
    "* [Imports](#imports)\n",
    "* [Util Methods & Constants](#utils)\n",
    "* [Load Data](#load-data)\n",
    "    * [Load pre processed training data](#load-data)\n",
    "        *   [Split data](#split-data)\n",
    "    * [Load daily stock data](#load-daily-data)\n",
    "* [Create testsplits](#create-test-splits)\n"
   ]
  },
  {
   "cell_type": "markdown",
   "metadata": {},
   "source": [
    "# Imports <a class=\"anchor\" id=\"imports\"></a>"
   ]
  },
  {
   "cell_type": "code",
   "execution_count": 50,
   "metadata": {},
   "outputs": [],
   "source": [
    "from sklearn.model_selection import train_test_split , ShuffleSplit\n",
    "from sklearn.metrics import mean_squared_error, confusion_matrix, ConfusionMatrixDisplay\n",
    "from sklearn import metrics\n",
    "import xgboost as xgb\n",
    "from xgboost import plot_importance\n",
    "\n",
    "import pandas as pd\n",
    "import numpy as np\n",
    "import random\n",
    "\n",
    "import backtrader as bt\n",
    "\n",
    "import matplotlib.pyplot as plt\n",
    "from tabulate import tabulate"
   ]
  },
  {
   "cell_type": "markdown",
   "metadata": {},
   "source": [
    "# Util methods & Constants <a class=\"anchor\" id=\"utils\"></a>"
   ]
  },
  {
   "cell_type": "code",
   "execution_count": 153,
   "metadata": {},
   "outputs": [],
   "source": [
    "# Contants\n",
    "predict_variables = ['1Month','3Months','6Months','1Year','2Years']\n",
    "meta_variables =  ['date', 'symbol', 'source']\n",
    "non_test_variables = predict_variables + meta_variables\n",
    "train_variables = [\"Day1Prior\",\"Day2Prior\",\"Day3Prior\",\"Day4Prior\",\"Day5Prior\",\"Day6Prior\",\"Week1Prior\",\"Week2Prior\",\"Week3Prior\",\"Month1Prior\",\"Month2Prior\",\"Month3Prior\",\"Month4Prior\",\"Month5Prior\",\"Month6Prior\",\"Month7Prior\",\"Month8Prior\",\"Month9Prior\",\"Month10Prior\",\"Month11Prior\",\"Month12Prior\",\"Month13Prior\",\"Month14Prior\",\"Month15Prior\",\"Month16Prior\",\"Month17Prior\",\"Month18Prior\",\"Month19Prior\",\"Month20Prior\",\"Month21Prior\",\"Month22Prior\",\"Month23Prior\",\"Month24Prior\"]\n",
    "\n",
    "short_value = -1\n",
    "long_value = 0\n",
    "test_size = 0.4\n"
   ]
  },
  {
   "cell_type": "code",
   "execution_count": 154,
   "metadata": {},
   "outputs": [],
   "source": [
    "# Util methods\n",
    "\n",
    "# Method to find nearest date to a given pivot\n",
    "def nearest(items, pivot):\n",
    "    return min(items, key=lambda x: abs(x - pivot))\n",
    "\n",
    "# Classifies a varibale an imput as either short or long\n",
    "def classify(x):\n",
    "    if( x < 0 ):\n",
    "        return short_value\n",
    "    else:\n",
    "        return long_value"
   ]
  },
  {
   "cell_type": "markdown",
   "metadata": {},
   "source": [
    "# Load data <a class=\"anchor\" id=\"load-data\"></a>\n",
    "## Load pre processed training data <a class=\"anchor\" id=\"load-data\"></a>\n"
   ]
  },
  {
   "cell_type": "code",
   "execution_count": 157,
   "metadata": {},
   "outputs": [
    {
     "data": {
      "text/html": [
       "<div>\n",
       "<style scoped>\n",
       "    .dataframe tbody tr th:only-of-type {\n",
       "        vertical-align: middle;\n",
       "    }\n",
       "\n",
       "    .dataframe tbody tr th {\n",
       "        vertical-align: top;\n",
       "    }\n",
       "\n",
       "    .dataframe thead th {\n",
       "        text-align: right;\n",
       "    }\n",
       "</style>\n",
       "<table border=\"1\" class=\"dataframe\">\n",
       "  <thead>\n",
       "    <tr style=\"text-align: right;\">\n",
       "      <th></th>\n",
       "      <th>symbol</th>\n",
       "      <th>1Month</th>\n",
       "      <th>3Months</th>\n",
       "      <th>6Months</th>\n",
       "      <th>1Year</th>\n",
       "      <th>2Years</th>\n",
       "      <th>Day1Prior</th>\n",
       "      <th>Day2Prior</th>\n",
       "      <th>Day3Prior</th>\n",
       "      <th>Day4Prior</th>\n",
       "      <th>...</th>\n",
       "      <th>Month17Prior</th>\n",
       "      <th>Month18Prior</th>\n",
       "      <th>Month19Prior</th>\n",
       "      <th>Month20Prior</th>\n",
       "      <th>Month21Prior</th>\n",
       "      <th>Month22Prior</th>\n",
       "      <th>Month23Prior</th>\n",
       "      <th>Month24Prior</th>\n",
       "      <th>source</th>\n",
       "      <th>date</th>\n",
       "    </tr>\n",
       "  </thead>\n",
       "  <tbody>\n",
       "    <tr>\n",
       "      <th>0</th>\n",
       "      <td>ALT</td>\n",
       "      <td>NaN</td>\n",
       "      <td>NaN</td>\n",
       "      <td>NaN</td>\n",
       "      <td>NaN</td>\n",
       "      <td>NaN</td>\n",
       "      <td>0.065012</td>\n",
       "      <td>-0.133654</td>\n",
       "      <td>-0.136973</td>\n",
       "      <td>-0.136973</td>\n",
       "      <td>...</td>\n",
       "      <td>-0.340892</td>\n",
       "      <td>-0.502210</td>\n",
       "      <td>-0.199111</td>\n",
       "      <td>-0.001109</td>\n",
       "      <td>0.794821</td>\n",
       "      <td>0.722753</td>\n",
       "      <td>0.371385</td>\n",
       "      <td>0.202937</td>\n",
       "      <td>Kerrisdale Capital</td>\n",
       "      <td>2024-02-14</td>\n",
       "    </tr>\n",
       "    <tr>\n",
       "      <th>1</th>\n",
       "      <td>JOBY</td>\n",
       "      <td>short</td>\n",
       "      <td>short</td>\n",
       "      <td>NaN</td>\n",
       "      <td>NaN</td>\n",
       "      <td>NaN</td>\n",
       "      <td>-0.067073</td>\n",
       "      <td>-0.055556</td>\n",
       "      <td>-0.054096</td>\n",
       "      <td>-0.054096</td>\n",
       "      <td>...</td>\n",
       "      <td>0.148218</td>\n",
       "      <td>0.176923</td>\n",
       "      <td>0.256674</td>\n",
       "      <td>0.277662</td>\n",
       "      <td>0.071804</td>\n",
       "      <td>-0.098675</td>\n",
       "      <td>-0.337662</td>\n",
       "      <td>-0.322259</td>\n",
       "      <td>Kerrisdale Capital</td>\n",
       "      <td>2023-10-11</td>\n",
       "    </tr>\n",
       "  </tbody>\n",
       "</table>\n",
       "<p>2 rows × 41 columns</p>\n",
       "</div>"
      ],
      "text/plain": [
       "  symbol 1Month 3Months 6Months 1Year 2Years  Day1Prior  Day2Prior  Day3Prior  \\\n",
       "0    ALT    NaN     NaN     NaN   NaN    NaN   0.065012  -0.133654  -0.136973   \n",
       "1   JOBY  short   short     NaN   NaN    NaN  -0.067073  -0.055556  -0.054096   \n",
       "\n",
       "   Day4Prior  ...  Month17Prior  Month18Prior  Month19Prior  Month20Prior  \\\n",
       "0  -0.136973  ...     -0.340892     -0.502210     -0.199111     -0.001109   \n",
       "1  -0.054096  ...      0.148218      0.176923      0.256674      0.277662   \n",
       "\n",
       "   Month21Prior  Month22Prior  Month23Prior  Month24Prior              source  \\\n",
       "0      0.794821      0.722753      0.371385      0.202937  Kerrisdale Capital   \n",
       "1      0.071804     -0.098675     -0.337662     -0.322259  Kerrisdale Capital   \n",
       "\n",
       "        date  \n",
       "0 2024-02-14  \n",
       "1 2023-10-11  \n",
       "\n",
       "[2 rows x 41 columns]"
      ]
     },
     "execution_count": 157,
     "metadata": {},
     "output_type": "execute_result"
    }
   ],
   "source": [
    "classified_data = pd.read_csv('csv/table_all_class.csv',sep=',')\n",
    "u_symbol = classified_data['SYMBOL'].unique()\n",
    "date = pd.Series(classified_data['Date'])\n",
    "classified_data.drop(['Date'],axis=1,inplace=True)\n",
    "classified_data['date'] = date.apply(lambda x: np.datetime64(x))\n",
    "classified_data.rename(columns={\"SYMBOL\": \"symbol\"}, inplace=True)\n",
    "classified_data[0:2]"
   ]
  },
  {
   "cell_type": "markdown",
   "metadata": {},
   "source": [
    "### Split data into individual datasets  <a class=\"anchor\" id=\"split-data\"></a>\n",
    "* Spliting data into individual datasets so that each prediction period can be trained with the maximum amount of data not including NaN\n",
    "* We also drop rows with NaN values in the colums we train on"
   ]
  },
  {
   "cell_type": "code",
   "execution_count": 158,
   "metadata": {},
   "outputs": [
    {
     "name": "stdout",
     "output_type": "stream",
     "text": [
      "Variable: 1Month  \t before drop: 448\t after drop: 306\n",
      "Variable: 3Months  \t before drop: 448\t after drop: 302\n",
      "Variable: 6Months  \t before drop: 448\t after drop: 288\n",
      "Variable: 1Year  \t before drop: 448\t after drop: 266\n",
      "Variable: 2Years  \t before drop: 448\t after drop: 225\n"
     ]
    }
   ],
   "source": [
    "split_classification_data = {}\n",
    "classification_data_before_and_after_drop = {}\n",
    "before_drop = len(classified_data)\n",
    "# we drop rows with NaN values for each predict variable. So if there is NaN for 2 Years but not for 6Months, 6Months can be trained on that data\n",
    "for variable in predict_variables:\n",
    "    entry = {}\n",
    "    entry['before_drop'] = before_drop\n",
    "    split_classification_data[variable] = classified_data.dropna(subset=[variable]+train_variables)\n",
    "    entry['after_drop'] = len(split_classification_data[variable])\n",
    "    classification_data_before_and_after_drop[variable] = entry\n",
    "\n",
    "for index, row in classification_data_before_and_after_drop.items():\n",
    "    print(\"Variable: {0}  \\t before drop: {1}\\t after drop: {2}\".format(index,row['before_drop'],row['after_drop']))"
   ]
  },
  {
   "cell_type": "markdown",
   "metadata": {},
   "source": [
    "## Load daily stock data <a class=\"anchor\" id=\"load-daily-data\"></a>"
   ]
  },
  {
   "cell_type": "code",
   "execution_count": 159,
   "metadata": {},
   "outputs": [
    {
     "data": {
      "text/html": [
       "<div>\n",
       "<style scoped>\n",
       "    .dataframe tbody tr th:only-of-type {\n",
       "        vertical-align: middle;\n",
       "    }\n",
       "\n",
       "    .dataframe tbody tr th {\n",
       "        vertical-align: top;\n",
       "    }\n",
       "\n",
       "    .dataframe thead th {\n",
       "        text-align: right;\n",
       "    }\n",
       "</style>\n",
       "<table border=\"1\" class=\"dataframe\">\n",
       "  <thead>\n",
       "    <tr style=\"text-align: right;\">\n",
       "      <th></th>\n",
       "      <th>open</th>\n",
       "      <th>high</th>\n",
       "      <th>low</th>\n",
       "      <th>close</th>\n",
       "      <th>volume</th>\n",
       "      <th>symbol</th>\n",
       "      <th>log_returns</th>\n",
       "      <th>date</th>\n",
       "    </tr>\n",
       "  </thead>\n",
       "  <tbody>\n",
       "    <tr>\n",
       "      <th>0</th>\n",
       "      <td>32.30</td>\n",
       "      <td>33.58</td>\n",
       "      <td>32.3</td>\n",
       "      <td>32.84</td>\n",
       "      <td>7315000.0</td>\n",
       "      <td>1179.HK</td>\n",
       "      <td>0.056371</td>\n",
       "      <td>2020-09-23</td>\n",
       "    </tr>\n",
       "    <tr>\n",
       "      <th>1</th>\n",
       "      <td>34.08</td>\n",
       "      <td>34.20</td>\n",
       "      <td>33.5</td>\n",
       "      <td>33.73</td>\n",
       "      <td>2797160.0</td>\n",
       "      <td>1179.HK</td>\n",
       "      <td>0.026740</td>\n",
       "      <td>2020-09-24</td>\n",
       "    </tr>\n",
       "  </tbody>\n",
       "</table>\n",
       "</div>"
      ],
      "text/plain": [
       "    open   high   low  close     volume   symbol  log_returns       date\n",
       "0  32.30  33.58  32.3  32.84  7315000.0  1179.HK     0.056371 2020-09-23\n",
       "1  34.08  34.20  33.5  33.73  2797160.0  1179.HK     0.026740 2020-09-24"
      ]
     },
     "execution_count": 159,
     "metadata": {},
     "output_type": "execute_result"
    }
   ],
   "source": [
    "# Daily data\n",
    "clean_data = pd.read_csv('csv/clean_data_new.csv',sep=',')\n",
    "u_symbol = clean_data['symbol'].unique()\n",
    "date = pd.Series(clean_data['datetime'])\n",
    "clean_data.drop(['datetime'],axis=1,inplace=True)\n",
    "clean_data['date'] = date.apply(lambda x: np.datetime64(x))\n",
    "\n",
    "stock_data = {}\n",
    "for symbol in u_symbol:\n",
    "    stock_data[symbol] = clean_data[clean_data['symbol'] == symbol]\n",
    "\n",
    "stock_data[list(stock_data.keys())[0]][0:2]"
   ]
  },
  {
   "cell_type": "markdown",
   "metadata": {},
   "source": [
    "# Create test splits<a class=\"anchor\" id=\"create-test-splits\"></a>\n",
    "* We create a specific sorted test split for each training variable"
   ]
  },
  {
   "cell_type": "code",
   "execution_count": 166,
   "metadata": {},
   "outputs": [],
   "source": [
    "classified_test_splits = {}\n",
    "for variable in predict_variables:\n",
    "    # We sort the array to prevent having future data in training set. \n",
    "    sorted_data = split_classification_data[variable].sort_values(['date'], ascending= True)\n",
    "    train, test = train_test_split(sorted_data, test_size=test_size, shuffle = False)\n",
    "    # Making sure we got no overlap\n",
    "    if(train['date'].iloc[0] >= train['date'].iloc[-1]):\n",
    "        raise Exception(\"First date of training data is higher than last date\") \n",
    "    if(test['date'].iloc[0] >= test['date'].iloc[-1]):\n",
    "        raise Exception(\"First date of test data is higher than last date\") \n",
    "    if(train['date'].iloc[-1] >= test['date'].iloc[0]):\n",
    "        raise Exception(\"Overlap of training and test data\") "
   ]
  }
 ],
 "metadata": {
  "interpreter": {
   "hash": "d20031de04c727e9aadc79b026429e19c1f8301ad62b2be5a3945ff3409f1291"
  },
  "kernelspec": {
   "display_name": "Python 3.11.7 64-bit ('venv': venv)",
   "language": "python",
   "name": "python3"
  },
  "language_info": {
   "codemirror_mode": {
    "name": "ipython",
    "version": 3
   },
   "file_extension": ".py",
   "mimetype": "text/x-python",
   "name": "python",
   "nbconvert_exporter": "python",
   "pygments_lexer": "ipython3",
   "version": "3.11.7"
  },
  "orig_nbformat": 4
 },
 "nbformat": 4,
 "nbformat_minor": 2
}
