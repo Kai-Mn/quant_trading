{
 "cells": [
  {
   "cell_type": "markdown",
   "metadata": {},
   "source": [
    "# Imports"
   ]
  },
  {
   "cell_type": "code",
   "execution_count": 3,
   "metadata": {},
   "outputs": [],
   "source": [
    "import mysql.connector"
   ]
  },
  {
   "cell_type": "markdown",
   "metadata": {},
   "source": [
    "# Create DB"
   ]
  },
  {
   "cell_type": "code",
   "execution_count": 4,
   "metadata": {},
   "outputs": [],
   "source": [
    "user = 'mariadb'\n",
    "password = 'mariadb'\n",
    "database_name = 'mariadb'\n",
    "host = 'db'\n",
    "port = 3306\n",
    "\n",
    "cnx = mysql.connector.connect(user='mariadb', password='mariadb',\n",
    "                              host=\"localhost\",\n",
    "                              database=database_name,\n",
    "                              port= port)"
   ]
  },
  {
   "cell_type": "markdown",
   "metadata": {},
   "source": [
    "### Migrations"
   ]
  },
  {
   "cell_type": "code",
   "execution_count": 10,
   "metadata": {},
   "outputs": [],
   "source": [
    "# Migrations\n",
    "migration_0001 = [\n",
    "    \"CREATE TABLE `companies` (`id` bigint AUTO_INCREMENT NOT NULL PRIMARY KEY, `name` varchar(4) NOT NULL UNIQUE);\",\n",
    "    \"CREATE TABLE `stocks` (`id` bigint AUTO_INCREMENT NOT NULL PRIMARY KEY, `date` integer NOT NULL, `open` double precision NOT NULL, `high` double precision NOT NULL, `low` double precision NOT NULL, `close` double precision NOT NULL, `adj_close` double precision NOT NULL, `volume` double precision NOT NULL, `type_id` bigint NOT NULL);\",\n",
    "    \"ALTER TABLE `stocks` ADD CONSTRAINT `stocks_type_id_cae037c9_fk_companies_id` FOREIGN KEY (`type_id`) REFERENCES `companies` (`id`);\"\n",
    "    ]\n",
    "migration_0002 = [\n",
    "    \"ALTER TABLE `stocks` ADD CONSTRAINT `stocks_date_9df9438d_uniq` UNIQUE (`date`);\",\n",
    "    \"ALTER TABLE `stocks` ADD CONSTRAINT `stocks_date_type_id_b7ae3efa_uniq` UNIQUE (`date`, `type_id`);\",\n",
    "    \"ALTER TABLE `companies` MODIFY `name` varchar(20) NOT NULL;\"\n",
    "]"
   ]
  },
  {
   "cell_type": "markdown",
   "metadata": {},
   "source": [
    "### Run Migrations"
   ]
  },
  {
   "cell_type": "code",
   "execution_count": 11,
   "metadata": {},
   "outputs": [
    {
     "name": "stdout",
     "output_type": "stream",
     "text": [
      "Migration has already ran\n",
      "Migration has already ran\n",
      "Migration has already ran\n"
     ]
    }
   ],
   "source": [
    "cursor = cnx.cursor()\n",
    "for entry in migration_0001:\n",
    "    try:\n",
    "        cursor.execute(entry)\n",
    "    except:\n",
    "        print(\"Migration_0001 has already ran\")\n",
    "\n",
    "for entry in migration_0002:\n",
    "    try:\n",
    "        cursor.execute(entry)\n",
    "    except:\n",
    "        print(\"Migration_0002 has already ran\")"
   ]
  },
  {
   "cell_type": "markdown",
   "metadata": {},
   "source": [
    "# Read in Data"
   ]
  },
  {
   "cell_type": "code",
   "execution_count": null,
   "metadata": {},
   "outputs": [],
   "source": []
  }
 ],
 "metadata": {
  "interpreter": {
   "hash": "d20031de04c727e9aadc79b026429e19c1f8301ad62b2be5a3945ff3409f1291"
  },
  "kernelspec": {
   "display_name": "Python 3.10.0 64-bit ('venv': venv)",
   "language": "python",
   "name": "python3"
  },
  "language_info": {
   "codemirror_mode": {
    "name": "ipython",
    "version": 3
   },
   "file_extension": ".py",
   "mimetype": "text/x-python",
   "name": "python",
   "nbconvert_exporter": "python",
   "pygments_lexer": "ipython3",
   "version": "3.11.7"
  },
  "orig_nbformat": 4
 },
 "nbformat": 4,
 "nbformat_minor": 2
}
